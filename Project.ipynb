import mysql.connector
from mysql.connector import Error
import os
import time

# 1. إعداد الاتصال بقاعدة البيانات
def create_connection():
    try:
        connection = mysql.connector.connect(
            host="localhost",            # يمكنك تغيير ذلك إذا كنت تستخدم عنوان IP أو Docker
            user="root",                 # استبدل باسم المستخدم
            password="my-secret-pw",     # استبدل بكلمة مرور MySQL الخاصة بك
            database="testdb"            # تأكد من أن قاعدة البيانات موجودة أو سيتم إنشاؤها
        )
        if connection.is_connected():
            print("تم الاتصال بنجاح بقاعدة البيانات!")
        return connection
    except Error as e:
        print(f"حدث خطأ في الاتصال بقاعدة البيانات: {e}")
        return None

# 2. إنشاء قاعدة بيانات جديدة
def create_database(connection):
    try:
        cursor = connection.cursor()
        cursor.execute("CREATE DATABASE IF NOT EXISTS testdb")
        print("تم إنشاء قاعدة البيانات testdb بنجاح (أو كانت موجودة بالفعل).")
    except Error as e:
        print(f"حدث خطأ أثناء إنشاء قاعدة البيانات: {e}")

# 3. إنشاء جدول وإدخال بيانات
def create_table_and_insert_data(connection):
    try:
        cursor = connection.cursor()
        cursor.execute("USE testdb")
        
        # إنشاء جدول المستخدمين
        cursor.execute("""
        CREATE TABLE IF NOT EXISTS users (
            id INT AUTO_INCREMENT PRIMARY KEY,
            name VARCHAR(100),
            age INT
        )
        """)
        print("تم إنشاء الجدول users بنجاح.")
        
        # إدخال بعض البيانات
        cursor.execute("INSERT INTO users (name, age) VALUES (%s, %s)", ('Alice', 30))
        cursor.execute("INSERT INTO users (name, age) VALUES (%s, %s)", ('Bob', 25))
        cursor.execute("INSERT INTO users (name, age) VALUES (%s, %s)", ('Charlie', 35))
        connection.commit()
        print("تم إدخال البيانات بنجاح.")
        
    except Error as e:
        print(f"حدث خطأ أثناء إنشاء الجدول أو إدخال البيانات: {e}")

# 4. إجراء استعلام لقراءة البيانات
def fetch_data(connection):
    try:
        cursor = connection.cursor()
        cursor.execute("USE testdb")
        cursor.execute("SELECT * FROM users")
        results = cursor.fetchall()
        
        if results:
            print("البيانات في جدول users:")
            for row in results:
                print(f"id: {row[0]}, Name: {row[1]}, Age: {row[2]}")
        else:
            print("لم يتم العثور على بيانات.")
    except Error as e:
        print(f"حدث خطأ أثناء استعلام البيانات: {e}")

# 5. إدارة المستخدمين (إنشاء مستخدم، منح صلاحيات، حذف مستخدم)
def manage_users(connection):
    try:
        cursor = connection.cursor()
        
        # إنشاء مستخدم جديد
        cursor.execute("CREATE USER IF NOT EXISTS 'newuser'@'localhost' IDENTIFIED BY 'password123'")
        print("تم إنشاء المستخدم newuser بنجاح.")
        
        # منح صلاحيات للمستخدم الجديد
        cursor.execute("GRANT ALL PRIVILEGES ON testdb.* TO 'newuser'@'localhost'")
        cursor.execute("FLUSH PRIVILEGES")
        print("تم منح جميع الصلاحيات للمستخدم newuser.")
        
        # عرض المستخدمين في النظام
        cursor.execute("SELECT User, Host FROM mysql.user")
        users = cursor.fetchall()
        print("المستخدمون الحاليون في MySQL:")
        for user in users:
            print(user)
        
        # حذف المستخدم الجديد
        cursor.execute("DROP USER IF EXISTS 'newuser'@'localhost'")
        print("تم حذف المستخدم newuser.")
        
    except Error as e:
        print(f"حدث خطأ أثناء إدارة المستخدمين: {e}")

# 6. النسخ الاحتياطي واستعادة البيانات
def backup_and_restore(connection):
    try:
        # 6.1 إجراء النسخ الاحتياطي
        print("جاري إجراء النسخ الاحتياطي لقاعدة البيانات...")
        backup_file = "backup.sql"
        os.system(f"mysqldump -u root -p my-secret-pw testdb > {backup_file}")
        print(f"تم حفظ النسخة الاحتياطية في الملف {backup_file}.")
        
        # 6.2 استعادة النسخة الاحتياطية
        print("جاري استعادة النسخة الاحتياطية...")
        os.system(f"mysql -u root -p my-secret-pw testdb < {backup_file}")
        print("تم استعادة النسخة الاحتياطية بنجاح.")
    
    except Exception as e:
        print(f"حدث خطأ أثناء إجراء النسخ الاحتياطي أو الاستعادة: {e}")

# البرنامج الرئيسي
if __name__ == "__main__":
    connection = create_connection()
    if connection:
        create_database(connection)
        create_table_and_insert_data(connection)
        fetch_data(connection)
        manage_users(connection)
        backup_and_restore(connection)
        
        # إغلاق الاتصال بقاعدة البيانات
        if connection.is_connected():
            connection.close()
            print("تم إغلاق الاتصال بقاعدة البيانات.")
